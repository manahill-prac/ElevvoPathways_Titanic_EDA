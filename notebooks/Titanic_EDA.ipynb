[![Open In Colab](https://colab.research.google.com/assets/colab-badge.svg)](https://colab.research.google.com/github/USERNAME/titanic-eda/blob/main/notebooks/Titanic_EDA.ipynb)

# Titanic EDA

This repository contains an exploratory data analysis (EDA) on the Titanic dataset.

## Structure
- `notebooks/Titanic_EDA.ipynb` → Main Jupyter Notebook for EDA
- `data/train.csv` → Dataset (place here manually, not included in repo)
- `requirements.txt` → Dependencies

## How to Run
1. Clone this repo
2. Place `train.csv` in the `data/` folder
3. Open the notebook in Jupyter or Google Colab

## Open in Colab
[![Open In Colab](https://colab.research.google.com/assets/colab-badge.svg)](https://colab.research.google.com/github/USERNAME/REPO/blob/main/notebooks/Titanic_EDA.ipynb)
